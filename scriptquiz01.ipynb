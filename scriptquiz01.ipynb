{
 "cells": [
  {
   "cell_type": "markdown",
   "metadata": {},
   "source": [
    "- Q1"
   ]
  },
  {
   "cell_type": "code",
   "execution_count": 31,
   "metadata": {},
   "outputs": [
    {
     "name": "stdout",
     "output_type": "stream",
     "text": [
      "1000~9999 사이 10 포함 개수는 ==> 279\n"
     ]
    }
   ],
   "source": [
    "b = str(10)\n",
    "count = 0\n",
    "\n",
    "for i in range(1000, 10000) :\n",
    "    a = str(i)\n",
    "    if b in a :\n",
    "        count = count + 1\n",
    "        #print(a)\n",
    "        \n",
    "print('1000~9999 사이 10 포함 개수는 ==> {0}' .format(count))"
   ]
  },
  {
   "cell_type": "markdown",
   "metadata": {},
   "source": [
    "- Q2\n"
   ]
  },
  {
   "cell_type": "code",
   "execution_count": 179,
   "metadata": {},
   "outputs": [
    {
     "name": "stdout",
     "output_type": "stream",
     "text": [
      "10~99999 숫자 가운데 20배수이며, '080'을 포함하는 숫자 개수==> 108\n"
     ]
    }
   ],
   "source": [
    "count = 0\n",
    "\n",
    "for i in range(10, 100000) :\n",
    "    a = str(i)  \n",
    "    if '080' in a : \n",
    "        a = int(a) \n",
    "        if a % 20 == 0 : \n",
    "            count = count + 1\n",
    "\n",
    "print('10~99999 숫자 가운데 20배수이며, \\'080\\'을 포함하는 숫자 개수==> {0}'.format(count))"
   ]
  },
  {
   "cell_type": "markdown",
   "metadata": {},
   "source": [
    "- Q3\n",
    "    - 어렵당..."
   ]
  },
  {
   "cell_type": "code",
   "execution_count": 178,
   "metadata": {},
   "outputs": [
    {
     "name": "stdout",
     "output_type": "stream",
     "text": [
      "4->3->0->3->0->1->4->8->7->8->5->4->3->0->3->6->3->6->7->8->\n",
      "\n",
      "8\n",
      "161243136\n"
     ]
    }
   ],
   "source": [
    "import random\n",
    "\n",
    "cheolsoo = 4\n",
    "total = 1\n",
    "print('4->', end=\"\")\n",
    "for i in range(19) :\n",
    "    if cheolsoo == 4 :\n",
    "        cheolsoo = random.choice([1, 3, 7, 8])\n",
    "        total *= 4\n",
    "        print(cheolsoo, end=\"->\")\n",
    "    elif cheolsoo == 0 :\n",
    "        cheolsoo = random.choice([1, 3])\n",
    "        total *= 2\n",
    "        print(cheolsoo, end=\"->\")\n",
    "    elif cheolsoo == 1 :\n",
    "        cheolsoo = random.choice([0, 2, 4])\n",
    "        total *= 3\n",
    "        print(cheolsoo, end=\"->\")\n",
    "    elif cheolsoo == 2 :\n",
    "        cheolsoo = random.choice([1, 5])\n",
    "        total *= 2\n",
    "        print(cheolsoo, end=\"->\")\n",
    "    elif cheolsoo == 3 :\n",
    "        cheolsoo = random.choice([0, 4, 6])\n",
    "        total *= 3\n",
    "        print(cheolsoo, end=\"->\")\n",
    "    elif cheolsoo == 5 :\n",
    "        cheolsoo = random.choice([2, 4, 8])\n",
    "        total *= 3\n",
    "        print(cheolsoo, end=\"->\")\n",
    "    elif cheolsoo == 6 :\n",
    "        cheolsoo = random.choice([3, 7])\n",
    "        total *= 2\n",
    "        print(cheolsoo, end=\"->\")\n",
    "    elif cheolsoo == 7 :\n",
    "        cheolsoo = random.choice([4, 6, 8])\n",
    "        total *= 3\n",
    "        print(cheolsoo, end=\"->\")\n",
    "    elif cheolsoo == 8 :\n",
    "        if i == 18 :\n",
    "            print(cheolsoo)\n",
    "        else :\n",
    "            print(cheolsoo, end=\"->\")\n",
    "        cheolsoo = random.choice([5, 7])\n",
    "        total *= 2\n",
    "        \n",
    "        \n",
    "        \n",
    "print()\n",
    "print()\n",
    "print(cheolsoo)\n",
    "print(total)"
   ]
  },
  {
   "cell_type": "code",
   "execution_count": 173,
   "metadata": {},
   "outputs": [
    {
     "name": "stdout",
     "output_type": "stream",
     "text": [
      "0\n",
      "1\n",
      "2\n",
      "3\n",
      "4\n",
      "5\n",
      "6\n",
      "7\n",
      "8\n",
      "9\n",
      "10\n",
      "11\n",
      "12\n",
      "13\n",
      "14\n",
      "15\n",
      "16\n",
      "17\n",
      "18\n"
     ]
    }
   ],
   "source": [
    "for i in range(19) :\n",
    "    print(i)"
   ]
  }
 ],
 "metadata": {
  "kernelspec": {
   "display_name": "Python 3",
   "language": "python",
   "name": "python3"
  },
  "language_info": {
   "codemirror_mode": {
    "name": "ipython",
    "version": 3
   },
   "file_extension": ".py",
   "mimetype": "text/x-python",
   "name": "python",
   "nbconvert_exporter": "python",
   "pygments_lexer": "ipython3",
   "version": "3.8.3"
  }
 },
 "nbformat": 4,
 "nbformat_minor": 4
}
